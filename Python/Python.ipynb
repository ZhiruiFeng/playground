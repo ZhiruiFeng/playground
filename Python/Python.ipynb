{
 "cells": [
  {
   "cell_type": "markdown",
   "metadata": {},
   "source": [
    "# Python Usage"
   ]
  },
  {
   "cell_type": "markdown",
   "metadata": {},
   "source": [
    "## List\n",
    "\n",
    "list[start:end:stepsize]\n",
    "\n",
    "when stepsize == -1, the start $\\geq$ end."
   ]
  },
  {
   "cell_type": "code",
   "execution_count": 1,
   "metadata": {
    "collapsed": true
   },
   "outputs": [],
   "source": [
    "l = [[100, 200], [200, 1300], [1000, 1250], [2000, 3200]]"
   ]
  },
  {
   "cell_type": "code",
   "execution_count": 57,
   "metadata": {},
   "outputs": [
    {
     "data": {
      "text/plain": [
       "dict_keys([1])"
      ]
     },
     "execution_count": 57,
     "metadata": {},
     "output_type": "execute_result"
    }
   ],
   "source": [
    "a= {}\n",
    "a[1] = 2\n",
    "a.keys()"
   ]
  },
  {
   "cell_type": "code",
   "execution_count": 58,
   "metadata": {},
   "outputs": [
    {
     "data": {
      "text/plain": [
       "True"
      ]
     },
     "execution_count": 58,
     "metadata": {},
     "output_type": "execute_result"
    }
   ],
   "source": [
    "1 in a"
   ]
  },
  {
   "cell_type": "code",
   "execution_count": 59,
   "metadata": {},
   "outputs": [
    {
     "data": {
      "text/plain": [
       "{1: 2}"
      ]
     },
     "execution_count": 59,
     "metadata": {},
     "output_type": "execute_result"
    }
   ],
   "source": [
    "a"
   ]
  },
  {
   "cell_type": "code",
   "execution_count": 62,
   "metadata": {},
   "outputs": [
    {
     "name": "stdout",
     "output_type": "stream",
     "text": [
      "1\n",
      "2\n"
     ]
    }
   ],
   "source": [
    "a[2] = 3\n",
    "for key in a:\n",
    "    print(key)"
   ]
  },
  {
   "cell_type": "code",
   "execution_count": 65,
   "metadata": {
    "collapsed": true
   },
   "outputs": [],
   "source": [
    "class Solution:\n",
    "    def calcEquation(self, equations, values, queries):\n",
    "        \"\"\"\n",
    "        :type equations: List[List[str]]\n",
    "        :type values: List[float]\n",
    "        :type queries: List[List[str]]\n",
    "        :rtype: List[float]\n",
    "        \"\"\"\n",
    "        adj = {}\n",
    "        for i in range(len(values)):\n",
    "            a, b = equations[i]\n",
    "            v = values[i]\n",
    "            if a not in adj:\n",
    "                adj[a] = {}\n",
    "            adj[a][b] = v\n",
    "            if b not in adj:\n",
    "                adj[b] = {}\n",
    "            adj[b][a] = 1.0/v\n",
    "        answer = []\n",
    "        for a,b in queries:\n",
    "            if a not in adj or b not in adj:\n",
    "                answer.append(-1.0)\n",
    "            elif a == b: \n",
    "                answer.append(1.0)\n",
    "            else:\n",
    "                bfsqueue = []\n",
    "                visited = []\n",
    "                found = False\n",
    "                bfsqueue.append((a, 1.0))\n",
    "                while len(bfsqueue) > 0:\n",
    "                    currentnode, currentvalue = bfsqueue.pop(0)\n",
    "                    while len(bfsqueue) > 0 and currentnode in visited:\n",
    "                        currentnode, currentvalue = bfsqueue.pop(0)\n",
    "                    if currentnode in visited:\n",
    "                        break\n",
    "                    visited.append(currentnode)\n",
    "                    if b in adj[currentnode]:\n",
    "                        currentvalue *= adj[currentnode][b]\n",
    "                        found = True\n",
    "                        break\n",
    "                    else:\n",
    "                        for nextlink in adj[currentnode]:\n",
    "                            if nextlink not in visited:\n",
    "                                tempv = currentvalue * adj[currentnode][nextlink]\n",
    "                                bfsqueue.append((nextlink, tempv))\n",
    "                if found:\n",
    "                    answer.append(currentvalue)\n",
    "                else:\n",
    "                    answer.append(-1.0)\n",
    "        return answer"
   ]
  },
  {
   "cell_type": "code",
   "execution_count": 66,
   "metadata": {},
   "outputs": [
    {
     "data": {
      "text/plain": [
       "[-1.0, -1.0, 1.0, 1.0]"
      ]
     },
     "execution_count": 66,
     "metadata": {},
     "output_type": "execute_result"
    }
   ],
   "source": [
    "s = Solution()\n",
    "a=[[\"a\",\"b\"],[\"c\",\"d\"]]\n",
    "b=[1.0,1.0]\n",
    "c=[[\"a\",\"c\"],[\"b\",\"d\"],[\"b\",\"a\"],[\"d\",\"c\"]]\n",
    "s.calcEquation(a,b,c)"
   ]
  },
  {
   "cell_type": "code",
   "execution_count": null,
   "metadata": {
    "collapsed": true
   },
   "outputs": [],
   "source": []
  }
 ],
 "metadata": {
  "kernelspec": {
   "display_name": "Python 3",
   "language": "python",
   "name": "python3"
  },
  "language_info": {
   "codemirror_mode": {
    "name": "ipython",
    "version": 3
   },
   "file_extension": ".py",
   "mimetype": "text/x-python",
   "name": "python",
   "nbconvert_exporter": "python",
   "pygments_lexer": "ipython3",
   "version": "3.6.4"
  }
 },
 "nbformat": 4,
 "nbformat_minor": 2
}
