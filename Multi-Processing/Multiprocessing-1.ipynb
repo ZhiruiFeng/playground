{
 "cells": [
  {
   "cell_type": "markdown",
   "metadata": {},
   "source": [
    "# Exploration on Python Multiprocessing"
   ]
  },
  {
   "cell_type": "code",
   "execution_count": 1,
   "metadata": {},
   "outputs": [],
   "source": [
    "import multiprocessing as mp\n",
    "import time\n",
    "import sys"
   ]
  },
  {
   "cell_type": "markdown",
   "metadata": {},
   "source": [
    "### Test the blocking of processes\n",
    "- Normal process\n",
    "- daemon process\n",
    "\n",
    "`sys.stdout.flush()`: \n",
    "\n",
    "Python's standard out is buffered (meaning that it collects some of the data \"written\" to standard out before it writes it to the terminal). Calling `sys.stdout.flush()` forces it to \"flush\" the buffer, meaning that it will write everything in the buffer to the terminal, even if normally it would wait before doing so. "
   ]
  },
  {
   "cell_type": "code",
   "execution_count": 2,
   "metadata": {},
   "outputs": [],
   "source": [
    "def sleepy_worker():\n",
    "    p = mp.current_process()\n",
    "    print('starting :',p.name, p.pid)\n",
    "    sys.stdout.flush()\n",
    "    for i in range(3):\n",
    "        print('Sleep time:',i)\n",
    "        sys.stdout.flush()\n",
    "        time.sleep(2)\n",
    "    print('Exiting :',p.name, p.pid)\n",
    "    sys.stdout.flush()"
   ]
  },
  {
   "cell_type": "code",
   "execution_count": 3,
   "metadata": {},
   "outputs": [],
   "source": [
    "def normal_worker():\n",
    "    p = mp.current_process()\n",
    "    print('starting :',p.name, p.pid)\n",
    "    sys.stdout.flush()\n",
    "    print('Exiting :',p.name, p.pid)\n",
    "    sys.stdout.flush()"
   ]
  },
  {
   "cell_type": "code",
   "execution_count": 4,
   "metadata": {
    "scrolled": true
   },
   "outputs": [
    {
     "name": "stdout",
     "output_type": "stream",
     "text": [
      "starting : sleepy 28233\n",
      "Sleep time: 0\n",
      "starting : normal 28234\n",
      "Exiting : normal 28234\n",
      "Sleep time: 1\n",
      "Sleep time: 2\n",
      "Exiting : sleepy 28233\n"
     ]
    }
   ],
   "source": [
    "sleepy = mp.Process(name='sleepy', target=sleepy_worker)\n",
    "normal = mp.Process(name='normal', target=normal_worker)\n",
    "sleepy.start()\n",
    "normal.start()"
   ]
  },
  {
   "cell_type": "markdown",
   "metadata": {},
   "source": [
    "**Conclution:** There is no blocking between those children processes."
   ]
  },
  {
   "cell_type": "code",
   "execution_count": 8,
   "metadata": {},
   "outputs": [
    {
     "name": "stdout",
     "output_type": "stream",
     "text": [
      "starting : sleepy 28640\n",
      "Sleep time: 0\n",
      "Sleep time: 1\n",
      "starting : normal 28644\n",
      "Exiting : normal 28644\n",
      "Sleep time: 2\n",
      "Exiting : sleepy 28640\n"
     ]
    }
   ],
   "source": [
    "if __name__ == '__main__':\n",
    "    sleepy = mp.Process(name='sleepy', target=sleepy_worker)\n",
    "    sleepy.daemon = True\n",
    "    normal = mp.Process(name='normal', target=normal_worker)\n",
    "    sleepy.start()\n",
    "    time.sleep(2)\n",
    "    normal.start()"
   ]
  },
  {
   "cell_type": "markdown",
   "metadata": {},
   "source": [
    "**Conclution:** If this block was run in `.py` file, then there will be no output after the existing of normal. Since all of the non-daemon processes (including the main program) exit before the daemon process wakes up from its sleep.\n",
    "\n",
    "It means the non-daemon process will block the main program, while those daemon will not block it. But when the main process stops, all other daemons will be terminated."
   ]
  },
  {
   "cell_type": "markdown",
   "metadata": {},
   "source": [
    "`Process.join(timeout)` means that the main program will wait for `timeout` seconds for the process to finish its work. And it will block the main process from moving forward. Thus, by some means, you'd better start all the processes you want before join any of them."
   ]
  },
  {
   "cell_type": "markdown",
   "metadata": {},
   "source": [
    "`Process.terminate()` kills the child process, but **Note** It is important to `join()` the process after terminating it in order to give the background machinery time to update the status of the object to reflect the termination."
   ]
  },
  {
   "cell_type": "markdown",
   "metadata": {},
   "source": [
    "## Communication between processes\n",
    "\n",
    "Any pickle-able object can pass through a Queue.\n",
    "\n",
    "- One Queue for storing tasks\n",
    "- Another Queue storing the results of workers."
   ]
  },
  {
   "cell_type": "code",
   "execution_count": 9,
   "metadata": {},
   "outputs": [
    {
     "data": {
      "text/plain": [
       "4"
      ]
     },
     "execution_count": 9,
     "metadata": {},
     "output_type": "execute_result"
    }
   ],
   "source": [
    "mp.cpu_count()"
   ]
  },
  {
   "cell_type": "markdown",
   "metadata": {},
   "source": [
    "**Signal Between Processes**\n",
    "- Using Event\n",
    "- `event.wait()` Block until the event being set\n",
    "- `event.set()`\n",
    "\n",
    "**Controlling Access to Resources**\n",
    "- Using Lock\n",
    "- `with lock:`\n",
    "- `lock.acquire()` and `lock.release()`\n",
    "\n",
    "**Synchronizing Operations**\n",
    "- Using Condition\n",
    "- `with condition`\n",
    "- `condition.wait()`\n",
    "- `conditon.notify_all()`\n",
    "\n",
    "**Semaphore**\n",
    "\n",
    "**Manager**\n",
    "\n",
    "**Namespace**"
   ]
  },
  {
   "cell_type": "markdown",
   "metadata": {},
   "source": [
    "### Process Pools\n",
    "- Using Multiprocessing.Pool()\n",
    "- `pool.map()` is functionally equivalent to the built-in `map()`, except that individual tasks run in parallel. \n",
    "- Since the pool is processing its inputs in parallel, `close()` and `join()` can be used to synchronize the main process with the task processes to ensure proper cleanup.\n",
    "- By default `Pool` creates a fixed number of worker processes and passes jobs to them until there are no more jobs. Setting the `maxtasksperchild` parameter tells the pool to restart a worker process after it has finished a few tasks. This can be used to avoid having long-running workers consume ever more system resources."
   ]
  },
  {
   "cell_type": "code",
   "execution_count": null,
   "metadata": {},
   "outputs": [],
   "source": []
  }
 ],
 "metadata": {
  "kernelspec": {
   "display_name": "Pythonrl 3",
   "language": "python",
   "name": "rlpython3"
  },
  "language_info": {
   "codemirror_mode": {
    "name": "ipython",
    "version": 3
   },
   "file_extension": ".py",
   "mimetype": "text/x-python",
   "name": "python",
   "nbconvert_exporter": "python",
   "pygments_lexer": "ipython3",
   "version": "3.6.4"
  },
  "widgets": {
   "state": {},
   "version": "1.1.2"
  }
 },
 "nbformat": 4,
 "nbformat_minor": 2
}
