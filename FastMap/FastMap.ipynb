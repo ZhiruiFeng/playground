{
 "cells": [
  {
   "cell_type": "markdown",
   "metadata": {},
   "source": [
    "# FastMap -- Data Mining\n",
    "\n",
    "In this doc, we need to figure out these points:\n",
    "\n",
    "1. How it works?\n",
    "2. Why it works?\n",
    "3. How to analyze its performance?\n",
    "4. How to use it in application?\n",
    "5. What's the comparison results with other state-out-arts?\n",
    "6. What's the current evolvements of it?"
   ]
  },
  {
   "cell_type": "markdown",
   "metadata": {},
   "source": [
    "## Intuition of the idea\n",
    "\n",
    "Designing feature extraction functions can be hard. It is relatively easier for a domain expert to assess the similarity/distance of two objects. Given only the distance information though, it is not obvious how to map objects into points.\n",
    "\n",
    "And here the goal is to embedding objects into Eclidean space as points which are $k$-dimentional vectors.\n",
    "\n",
    "### Why choose Euclidean space?\n",
    "\n",
    "**Enable Spatial access methods (SAMs)** to answer queries more efficiently.\n",
    "\n",
    "Retrieval of distances: although its more clear to know the similarity of two objects, but it may be computational difficult. And here comes the benefit of embedding at Euclidean space.\n",
    "\n",
    "Moreover, for visualization and data-mining (unsupervised).\n",
    "\n",
    "PS: we need to think about two kinds of queries for SAM.\n",
    "\n",
    "- `query-by-example`, whether it's easy to embedding a new node into this space.\n",
    "- `all pairs query`, this requires a very fast calculation of every pair, maybe even just uses a close-formed equation."
   ]
  },
  {
   "cell_type": "markdown",
   "metadata": {},
   "source": [
    "## How it works?\n",
    "\n",
    "Input: $\\mathcal{D} (O_i,O_j)$ a distance/dis-similarity function for every pair of nodes.\n",
    "\n",
    "Output: the embedding. $P_i=(x_{i,1},x_{i,2},...,x_{i,k})$ for $O_i$\n",
    "\n",
    "Requirements: $\\mathcal{D}()$ is:\n",
    "\n",
    "- Non-negative\n",
    "- Symmetric\n",
    "- Obeys the triangular inequality (Why it matters?)\n",
    "\n",
    "Because in the algorithm, we will use the distances' triangular inequality to form a a triangle, then use this to calculate a distance in one dimention. And as we can see, the basic of this is the triangular relationship exists."
   ]
  },
  {
   "cell_type": "markdown",
   "metadata": {},
   "source": [
    "### Distances for directed graph\n",
    "\n",
    "**Symmetric and obeys triangular inequality**\n",
    "\n",
    "1. $\\mathcal{D} (n_i,n_j) = \\frac{d_{ij}+d_{ji}}{2}$\n",
    "2. $\\mathcal{D} (n_i,n_j) = \\max\\{d_{ij}, d_{ji}\\}$\n",
    "\n",
    "**Symmetric but don't obeys triangular inequality**\n",
    "\n",
    "1. $\\mathcal{D} (n_i,n_j) = \\frac{|d_{ij}-d_{ji}|}{2}$\n",
    "2. $\\mathcal{D} (n_i,n_j) = \\min\\{d_{ij}, d_{ji}\\}$"
   ]
  },
  {
   "cell_type": "markdown",
   "metadata": {},
   "source": [
    "## Comparison with benchmark\n",
    "\n",
    "Two ways to evaluate it:\n",
    "\n",
    "1. Time efficiency or even consider storage efficiency.\n",
    "2. Preservation of original relations (distance) "
   ]
  },
  {
   "cell_type": "markdown",
   "metadata": {},
   "source": [
    "### Multi-Dimensional Scaling\n",
    "\n",
    "Two metrics for such embedding:\n",
    "\n",
    "1. Stress:\n",
    "$$stress = \\sqrt{\\frac{\\sum_{i,j}(\\hat{d}_{ij}-d_{ij})^2}{\\sum_{i,j}d_{ij}^2}}$$\n",
    "\n",
    "2. NRMSD\n",
    "\n",
    "The idea here is to use gradient decent to improve \n",
    "\n",
    "### Dimensionality Reduction Techniques\n",
    "\n",
    "Cannot be applied to 'distance' case, and it's very slow on large dataset.\n",
    "\n",
    "### Retrieval and Clustering\n",
    "\n",
    "In a word, some methods try to use the space information to help retrieval inforamtion. Even though not all of them use Euclidean space as a \"target\" space, but efficient search is a common question behind them. Thus pruning is vital in this process, and triangular inequality is very useful here."
   ]
  },
  {
   "cell_type": "code",
   "execution_count": null,
   "metadata": {},
   "outputs": [],
   "source": [
    "from random import choice\n",
    "C = 3\n",
    "def fastmap(N, Distance, K, epsilon):\n",
    "    embedding = {}\n",
    "    obj_list = list(range(N))\n",
    "    for node in obj_list:\n",
    "        embedding[node] = []\n",
    "    for r in range(K):\n",
    "        node_a = choice(obj_list)\n",
    "        node_b = node_a\n",
    "        # Find the farthest nodes a, b\n",
    "        for t in range(C):\n",
    "            length = 0\n",
    "            for j in obj_list:\n",
    "                dis = Distance.getdis(node_a, j)\n",
    "                if dis > length:\n",
    "                    node_c = j\n",
    "                    length = dis\n",
    "            if node_c == node_b:\n",
    "                break\n",
    "            else:\n",
    "                node_b = node_a\n",
    "                node_a = node_c\n",
    "        dis_ab = Distance.getdis(node_a, node_b)\n",
    "        if dis_ab < epsilon:\n",
    "            break\n",
    "        # Calcute the embedding\n",
    "        for node in obj_list:\n",
    "            dis_na = Distance.getdis(node_a, node)\n",
    "            dis_nb = Distance.getdis(node_b, node)\n",
    "            p_nr = float(dis_na**2 + dis_ab**2 - dis_nb **2)/(2 * dis_ab)\n",
    "            embedding[node].append(p_nr)\n",
    "        \n",
    "        # Update the weight of the graph\n",
    "        for i in range(N):\n",
    "            for j in range(i+1, N):\n",
    "                Distance.changedis(i, j, embedding[i][r], embedding[j][r])\n",
    "    return embedding"
   ]
  },
  {
   "cell_type": "code",
   "execution_count": null,
   "metadata": {},
   "outputs": [],
   "source": []
  }
 ],
 "metadata": {
  "kernelspec": {
   "display_name": "Python 3",
   "language": "python",
   "name": "python3"
  },
  "language_info": {
   "codemirror_mode": {
    "name": "ipython",
    "version": 3
   },
   "file_extension": ".py",
   "mimetype": "text/x-python",
   "name": "python",
   "nbconvert_exporter": "python",
   "pygments_lexer": "ipython3",
   "version": "3.6.4"
  }
 },
 "nbformat": 4,
 "nbformat_minor": 2
}
