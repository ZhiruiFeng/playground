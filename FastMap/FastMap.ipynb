{
 "cells": [
  {
   "cell_type": "markdown",
   "metadata": {},
   "source": [
    "# FastMap -- Data Mining\n",
    "\n",
    "In this doc, we need to figure out these points:\n",
    "\n",
    "1. How it works?\n",
    "2. Why it works?\n",
    "3. How to analyze its performance?\n",
    "4. How to use it in application?\n",
    "5. What's the comparison results with other state-out-arts?\n",
    "6. What's the current evolvements of it?"
   ]
  },
  {
   "cell_type": "markdown",
   "metadata": {},
   "source": [
    "## Intuition of the idea\n",
    "\n",
    "Designing feature extraction functions can be hard. It is relatively easier for a domain expert to assess the similarity/distance of two objects. Given only the distance information though, it is not obvious how to map objects into points.\n",
    "\n",
    "And here the goal is to embedding objects into Eclidean space as points which are $k$-dimentional vectors.\n",
    "\n",
    "### Why choose Euclidean space?\n",
    "\n",
    "**Enable Spatial access methods (SAMs)** to answer queries more efficiently.\n",
    "\n",
    "Retrieval of distances: although its more clear to know the similarity of two objects, but it may be computational difficult. And here comes the benefit of embedding at Euclidean space.\n",
    "\n",
    "Moreover, for visualization and data-mining (unsupervised)."
   ]
  },
  {
   "cell_type": "markdown",
   "metadata": {},
   "source": [
    "## How it works?\n",
    "\n",
    "Input: $\\mathcal{D} (O_i,O_j)$ a distance/dis-similarity function for every pair of nodes.\n",
    "\n",
    "Output: the embedding. $P_i=(x_{i,1},x_{i,2},...,x_{i,k})$ for $O_i$\n",
    "\n",
    "Requirements: $\\mathcal{D}()$ is:\n",
    "\n",
    "- Non-negative\n",
    "- Symmetric\n",
    "- Obeys the triangular inequality"
   ]
  },
  {
   "cell_type": "markdown",
   "metadata": {},
   "source": [
    "## Comparison with benchmark\n",
    "\n",
    "**Multi-Dimensional Scaling (MDS)** is our benchmark. \n",
    "\n",
    "Two ways to evaluate it:\n",
    "\n",
    "1. Time efficiency or even consider storage efficiency.\n",
    "2. Preservation of original relations (distance) "
   ]
  },
  {
   "cell_type": "code",
   "execution_count": null,
   "metadata": {},
   "outputs": [],
   "source": []
  }
 ],
 "metadata": {
  "kernelspec": {
   "display_name": "Python 3",
   "language": "python",
   "name": "python3"
  },
  "language_info": {
   "codemirror_mode": {
    "name": "ipython",
    "version": 3
   },
   "file_extension": ".py",
   "mimetype": "text/x-python",
   "name": "python",
   "nbconvert_exporter": "python",
   "pygments_lexer": "ipython3",
   "version": "3.6.4"
  }
 },
 "nbformat": 4,
 "nbformat_minor": 2
}
